{
  "nbformat": 4,
  "nbformat_minor": 0,
  "metadata": {
    "colab": {
      "name": "OpenAIGPT3.ipynb",
      "provenance": [],
      "authorship_tag": "ABX9TyMyT+hdwHs9q1ySxmWxmR/w",
      "include_colab_link": true
    },
    "kernelspec": {
      "name": "python3",
      "display_name": "Python 3"
    }
  },
  "cells": [
    {
      "cell_type": "markdown",
      "metadata": {
        "id": "view-in-github",
        "colab_type": "text"
      },
      "source": [
        "<a href=\"https://colab.research.google.com/github/StarDrop9/GPT3colabs/blob/main/OpenAIGPT3.ipynb\" target=\"_parent\"><img src=\"https://colab.research.google.com/assets/colab-badge.svg\" alt=\"Open In Colab\"/></a>"
      ]
    },
    {
      "cell_type": "code",
      "metadata": {
        "colab": {
          "base_uri": "https://localhost:8080/"
        },
        "id": "ZNXL5Jcjtn5T",
        "outputId": "74108a13-26c8-455a-b42c-6f87004831c3"
      },
      "source": [
        "!pip install openai\n",
        "import openai\n",
        "import json\n",
        "import pandas as pd\n",
        "import ipywidgets as widgets"
      ],
      "execution_count": 13,
      "outputs": [
        {
          "output_type": "stream",
          "text": [
            "Requirement already satisfied: openai in /usr/local/lib/python3.6/dist-packages (0.2.6)\n",
            "Requirement already satisfied: requests>=2.20; python_version >= \"3.0\" in /usr/local/lib/python3.6/dist-packages (from openai) (2.23.0)\n",
            "Requirement already satisfied: certifi>=2017.4.17 in /usr/local/lib/python3.6/dist-packages (from requests>=2.20; python_version >= \"3.0\"->openai) (2020.6.20)\n",
            "Requirement already satisfied: urllib3!=1.25.0,!=1.25.1,<1.26,>=1.21.1 in /usr/local/lib/python3.6/dist-packages (from requests>=2.20; python_version >= \"3.0\"->openai) (1.24.3)\n",
            "Requirement already satisfied: chardet<4,>=3.0.2 in /usr/local/lib/python3.6/dist-packages (from requests>=2.20; python_version >= \"3.0\"->openai) (3.0.4)\n",
            "Requirement already satisfied: idna<3,>=2.5 in /usr/local/lib/python3.6/dist-packages (from requests>=2.20; python_version >= \"3.0\"->openai) (2.10)\n"
          ],
          "name": "stdout"
        }
      ]
    },
    {
      "cell_type": "markdown",
      "metadata": {
        "id": "1qEVo6aQ5qVu"
      },
      "source": [
        "To Access files on google drive need to mount drive with authentication first.\n"
      ]
    },
    {
      "cell_type": "code",
      "metadata": {
        "id": "LmjWmZ9-vIVO"
      },
      "source": [
        "from google.colab import drive\n",
        "drive.mount('/content/drive')"
      ],
      "execution_count": null,
      "outputs": []
    },
    {
      "cell_type": "markdown",
      "metadata": {
        "id": "6VU_6IWC5vxr"
      },
      "source": [
        "To upload file from local print(\"done\") so don't print key after upload : Files are deleted after VM instance is closed."
      ]
    },
    {
      "cell_type": "code",
      "metadata": {
        "id": "nVYJhTnM1Pl2"
      },
      "source": [
        "from google.colab import files\n",
        "uploaded = files.upload()\n",
        "print(\"done\")"
      ],
      "execution_count": null,
      "outputs": []
    },
    {
      "cell_type": "markdown",
      "metadata": {
        "id": "0dn0YhPm4jSW"
      },
      "source": [
        "Method 1 Simple straightforward : remember to clear input var"
      ]
    },
    {
      "cell_type": "code",
      "metadata": {
        "id": "jMSVGrA1tnp7"
      },
      "source": [
        "from getpass import getpass\n",
        "secret = getpass('Enter the secret value: ')"
      ],
      "execution_count": null,
      "outputs": []
    },
    {
      "cell_type": "code",
      "metadata": {
        "id": "UIIAEMpStnNM"
      },
      "source": [
        "openai.api_key = secret"
      ],
      "execution_count": null,
      "outputs": []
    },
    {
      "cell_type": "markdown",
      "metadata": {
        "id": "iMdK7hB04n-G"
      },
      "source": [
        "Method 2 put Config.py out on Google Drive just key=\"Key\" in file."
      ]
    },
    {
      "cell_type": "markdown",
      "metadata": {
        "id": "Et79kLgbAd-f"
      },
      "source": [
        "SoureFileLoader can load .py file as module doesnt load .json files. Helpful to set up custom library access when stored on google drive."
      ]
    },
    {
      "cell_type": "code",
      "metadata": {
        "colab": {
          "base_uri": "https://localhost:8080/"
        },
        "id": "wNA_5SS5tLnZ",
        "outputId": "c8915513-997a-4634-d623-25e7bf0b90cb"
      },
      "source": [
        "from importlib.machinery import SourceFileLoader\n",
        "keyjson = SourceFileLoader('keyfile', 'drive/MyDrive/OpenAI/config.py').load_module()\n",
        "print(keyfile)"
      ],
      "execution_count": 23,
      "outputs": [
        {
          "output_type": "stream",
          "text": [
            "<module 'keyfile' from 'drive/MyDrive/OpenAI/config.py'>\n"
          ],
          "name": "stdout"
        }
      ]
    },
    {
      "cell_type": "code",
      "metadata": {
        "id": "1kw4WQWxxWzL"
      },
      "source": [
        "openai.api_key = keyfile.key"
      ],
      "execution_count": 21,
      "outputs": []
    },
    {
      "cell_type": "code",
      "metadata": {
        "id": "H5ljWGN2xWZj"
      },
      "source": [
        "print(keyfile.key)"
      ],
      "execution_count": null,
      "outputs": []
    },
    {
      "cell_type": "markdown",
      "metadata": {
        "id": "EhQbRrww5E7M"
      },
      "source": [
        "Method 3  This is continuation of the file load method of the key.json file, {'key':'KEY'}. The file is then opened and json.load creates a python dictionary and the api key is accessed by the key array reference."
      ]
    },
    {
      "cell_type": "code",
      "metadata": {
        "id": "EXqfGvj47obd"
      },
      "source": [
        "openai.api_key = json.load(open(\"key.json\", \"r\"))[\"key\"]"
      ],
      "execution_count": null,
      "outputs": []
    }
  ]
}