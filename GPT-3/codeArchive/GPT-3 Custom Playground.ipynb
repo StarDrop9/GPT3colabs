{
  "nbformat": 4,
  "nbformat_minor": 0,
  "metadata": {
    "kernelspec": {
      "display_name": "Python 3",
      "language": "python",
      "name": "python3"
    },
    "language_info": {
      "codemirror_mode": {
        "name": "ipython",
        "version": 3
      },
      "file_extension": ".py",
      "mimetype": "text/x-python",
      "name": "python",
      "nbconvert_exporter": "python",
      "pygments_lexer": "ipython3",
      "version": "3.7.6"
    },
    "colab": {
      "name": "GPT-3 Custom Playground.ipynb",
      "provenance": [],
      "include_colab_link": true
    }
  },
  "cells": [
    {
      "cell_type": "markdown",
      "metadata": {
        "id": "view-in-github",
        "colab_type": "text"
      },
      "source": [
        "<a href=\"https://colab.research.google.com/github/StarDrop9/GPT3colabs/blob/main/GPT-3/codeArchive/GPT-3%20Custom%20Playground.ipynb\" target=\"_parent\"><img src=\"https://colab.research.google.com/assets/colab-badge.svg\" alt=\"Open In Colab\"/></a>"
      ]
    },
    {
      "cell_type": "code",
      "metadata": {
        "id": "siym4NW3SAue",
        "outputId": "301b5354-8e2b-4676-a703-157bd045720a",
        "colab": {
          "base_uri": "https://localhost:8080/"
        }
      },
      "source": [
        "!pip install openai\n",
        "import openai\n",
        "import ipywidgets as widgets"
      ],
      "execution_count": 18,
      "outputs": [
        {
          "output_type": "stream",
          "text": [
            "Requirement already satisfied: openai in /usr/local/lib/python3.6/dist-packages (0.2.6)\n",
            "Requirement already satisfied: requests>=2.20; python_version >= \"3.0\" in /usr/local/lib/python3.6/dist-packages (from openai) (2.23.0)\n",
            "Requirement already satisfied: certifi>=2017.4.17 in /usr/local/lib/python3.6/dist-packages (from requests>=2.20; python_version >= \"3.0\"->openai) (2020.6.20)\n",
            "Requirement already satisfied: idna<3,>=2.5 in /usr/local/lib/python3.6/dist-packages (from requests>=2.20; python_version >= \"3.0\"->openai) (2.10)\n",
            "Requirement already satisfied: urllib3!=1.25.0,!=1.25.1,<1.26,>=1.21.1 in /usr/local/lib/python3.6/dist-packages (from requests>=2.20; python_version >= \"3.0\"->openai) (1.24.3)\n",
            "Requirement already satisfied: chardet<4,>=3.0.2 in /usr/local/lib/python3.6/dist-packages (from requests>=2.20; python_version >= \"3.0\"->openai) (3.0.4)\n"
          ],
          "name": "stdout"
        }
      ]
    },
    {
      "cell_type": "code",
      "metadata": {
        "id": "q1QuvVqtaG-D",
        "outputId": "d007e235-2aea-435b-d34b-69292bcf89e7",
        "colab": {
          "base_uri": "https://localhost:8080/"
        }
      },
      "source": [
        "from getpass import getpass\n",
        "secret = getpass('Enter the secret value: ')"
      ],
      "execution_count": 19,
      "outputs": [
        {
          "output_type": "stream",
          "text": [
            "Enter the secret value: ··········\n"
          ],
          "name": "stdout"
        }
      ]
    },
    {
      "cell_type": "markdown",
      "metadata": {
        "id": "SOo5ItQkWWoJ"
      },
      "source": [
        "# New Section"
      ]
    },
    {
      "cell_type": "code",
      "metadata": {
        "id": "yFwm3o5NSAue"
      },
      "source": [
        "openai.api_key = secret"
      ],
      "execution_count": 34,
      "outputs": []
    },
    {
      "cell_type": "code",
      "metadata": {
        "id": "cxVG64KiSAuf"
      },
      "source": [
        "#Custom text input\n",
        "myPrompt = \"The quick brown fox\""
      ],
      "execution_count": 30,
      "outputs": []
    },
    {
      "cell_type": "code",
      "metadata": {
        "id": "Xj4LSlFDSAuf"
      },
      "source": [
        "#parameters\n",
        "myTokens = 350\n",
        "myEngine = \"davinci\"\n",
        "myTemp = 0.85\n",
        "myTop_p = 1\n",
        "myN=1\n",
        "myStream = None\n",
        "myLogProbs = None\n",
        "myStop = \"\\n\""
      ],
      "execution_count": 31,
      "outputs": []
    },
    {
      "cell_type": "code",
      "metadata": {
        "id": "FG5cjrBQD4ju"
      },
      "source": [
        "response = openai.Completion.create(engine=\"davinci\", prompt=\"The quick brown fox\", max_tokens=5)"
      ],
      "execution_count": 35,
      "outputs": []
    },
    {
      "cell_type": "code",
      "metadata": {
        "id": "TnRO5o3JEQe3",
        "outputId": "3677086a-969d-4b0a-9fc2-01cd8c608e07",
        "colab": {
          "base_uri": "https://localhost:8080/"
        }
      },
      "source": [
        "print(response)"
      ],
      "execution_count": 36,
      "outputs": [
        {
          "output_type": "stream",
          "text": [
            "{\n",
            "  \"choices\": [\n",
            "    {\n",
            "      \"finish_reason\": \"length\",\n",
            "      \"index\": 0,\n",
            "      \"logprobs\": null,\n",
            "      \"text\": \" jumped over a lazy dog\"\n",
            "    }\n",
            "  ],\n",
            "  \"created\": 1606067584,\n",
            "  \"id\": \"cmpl-ejP05pv4fYNdLUxEGlZ0y9Xs\",\n",
            "  \"model\": \"davinci:2020-05-03\",\n",
            "  \"object\": \"text_completion\"\n",
            "}\n"
          ],
          "name": "stdout"
        }
      ]
    },
    {
      "cell_type": "code",
      "metadata": {
        "id": "z4JCH8LPSAuf",
        "outputId": "9f03da7f-932e-4eda-ca63-2805bf04da5b",
        "colab": {
          "base_uri": "https://localhost:8080/"
        }
      },
      "source": [
        "response = openai.Completion.create(\n",
        "  engine=myEngine,\n",
        "  prompt=myPrompt,\n",
        "  max_tokens=myTokens,\n",
        "  temperature=myTemp,\n",
        "  top_p=myTop_p,\n",
        "  n=myN,\n",
        "  stream = myStream,\n",
        "  logprobs=myLogProbs,\n",
        "  stop = myStop\n",
        ")\n",
        "\n",
        "print(f\"{response}\")"
      ],
      "execution_count": 29,
      "outputs": [
        {
          "output_type": "stream",
          "text": [
            "{\n",
            "  \"choices\": [\n",
            "    {\n",
            "      \"finish_reason\": \"stop\",\n",
            "      \"index\": 0,\n",
            "      \"logprobs\": null,\n",
            "      \"text\": \"\"\n",
            "    }\n",
            "  ],\n",
            "  \"created\": 1606067393,\n",
            "  \"id\": \"cmpl-TSYazJkB4uwARoxG17vj0Bvk\",\n",
            "  \"model\": \"davinci:2020-05-03\",\n",
            "  \"object\": \"text_completion\"\n",
            "}\n"
          ],
          "name": "stdout"
        }
      ]
    },
    {
      "cell_type": "code",
      "metadata": {
        "id": "kUxUTXhDSAug"
      },
      "source": [
        ""
      ],
      "execution_count": null,
      "outputs": []
    },
    {
      "cell_type": "code",
      "metadata": {
        "id": "SC50jbP3SAug"
      },
      "source": [
        ""
      ],
      "execution_count": null,
      "outputs": []
    },
    {
      "cell_type": "code",
      "metadata": {
        "id": "OGieZ95gSAug"
      },
      "source": [
        ""
      ],
      "execution_count": null,
      "outputs": []
    },
    {
      "cell_type": "code",
      "metadata": {
        "id": "C52Zh8Y0SAug"
      },
      "source": [
        ""
      ],
      "execution_count": null,
      "outputs": []
    }
  ]
}