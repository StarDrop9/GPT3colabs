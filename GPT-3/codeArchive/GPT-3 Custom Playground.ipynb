{
  "nbformat": 4,
  "nbformat_minor": 0,
  "metadata": {
    "kernelspec": {
      "display_name": "Python 3",
      "language": "python",
      "name": "python3"
    },
    "language_info": {
      "codemirror_mode": {
        "name": "ipython",
        "version": 3
      },
      "file_extension": ".py",
      "mimetype": "text/x-python",
      "name": "python",
      "nbconvert_exporter": "python",
      "pygments_lexer": "ipython3",
      "version": "3.7.6"
    },
    "colab": {
      "name": "GPT-3 Custom Playground.ipynb",
      "provenance": [],
      "include_colab_link": true
    }
  },
  "cells": [
    {
      "cell_type": "markdown",
      "metadata": {
        "id": "view-in-github",
        "colab_type": "text"
      },
      "source": [
        "<a href=\"https://colab.research.google.com/github/StarDrop9/GPT3colabs/blob/main/GPT-3/codeArchive/GPT-3%20Custom%20Playground.ipynb\" target=\"_parent\"><img src=\"https://colab.research.google.com/assets/colab-badge.svg\" alt=\"Open In Colab\"/></a>"
      ]
    },
    {
      "cell_type": "code",
      "metadata": {
        "id": "siym4NW3SAue"
      },
      "source": [
        "!pip install openai\n",
        "import openai\n",
        "import ipywidgets as widgets"
      ],
      "execution_count": null,
      "outputs": []
    },
    {
      "cell_type": "code",
      "metadata": {
        "id": "RvacfRWxkkjq"
      },
      "source": [
        "!ls drive/MyDrive\n",
        "openai.api_key = config.key\n",
        "print (config.key)"
      ],
      "execution_count": null,
      "outputs": []
    },
    {
      "cell_type": "code",
      "metadata": {
        "id": "q1QuvVqtaG-D",
        "outputId": "2c940558-9a5b-40a0-d6dc-2f25f2622b9e",
        "colab": {
          "base_uri": "https://localhost:8080/"
        }
      },
      "source": [
        "from getpass import getpass\n",
        "secret = getpass('Enter the secret value: ')"
      ],
      "execution_count": 46,
      "outputs": [
        {
          "output_type": "stream",
          "text": [
            "Enter the secret value: ··········\n"
          ],
          "name": "stdout"
        }
      ]
    },
    {
      "cell_type": "markdown",
      "metadata": {
        "id": "SOo5ItQkWWoJ"
      },
      "source": [
        "# New Section"
      ]
    },
    {
      "cell_type": "code",
      "metadata": {
        "id": "yFwm3o5NSAue"
      },
      "source": [
        "openai.api_key = secret"
      ],
      "execution_count": 47,
      "outputs": []
    },
    {
      "cell_type": "code",
      "metadata": {
        "id": "0QP3wSaVw-Ib",
        "outputId": "3f0f313d-ca0c-4774-a060-a52144931857",
        "colab": {
          "base_uri": "https://localhost:8080/"
        }
      },
      "source": [
        "print (secret)"
      ],
      "execution_count": 48,
      "outputs": [
        {
          "output_type": "stream",
          "text": [
            "\n"
          ],
          "name": "stdout"
        }
      ]
    },
    {
      "cell_type": "code",
      "metadata": {
        "id": "Rw4GQbYudQuY"
      },
      "source": [
        "chatLog = 'Human: Hello, who are you?\\nAI: I am doing great. How can I help you today?\\n';\n",
        "question = 'Could you tell me what your favorite animal is?';\n",
        "myPrompt = chatLog + \"Human: \" + question\n",
        "print(myPrompt)"
      ],
      "execution_count": null,
      "outputs": []
    },
    {
      "cell_type": "code",
      "metadata": {
        "id": "cxVG64KiSAuf"
      },
      "source": [
        "#Custom text input\n",
        "myPrompt = \"The quick brown fox\""
      ],
      "execution_count": null,
      "outputs": []
    },
    {
      "cell_type": "code",
      "metadata": {
        "id": "Xj4LSlFDSAuf"
      },
      "source": [
        "#parameters\n",
        "myTokens = 350\n",
        "myEngine = \"davinci\"\n",
        "myTemp = 0.85\n",
        "myTop_p = 1\n",
        "myN=1\n",
        "myStream = None\n",
        "myLogProbs = None\n",
        "myStop = \"Human:\""
      ],
      "execution_count": 41,
      "outputs": []
    },
    {
      "cell_type": "code",
      "metadata": {
        "id": "183xa8Xrd5Vx",
        "outputId": "ee866dfc-7535-449b-ce56-693090c8ca96",
        "colab": {
          "base_uri": "https://localhost:8080/"
        }
      },
      "source": [
        "from google.colab import drive\n",
        "drive.mount('/content/drive')"
      ],
      "execution_count": 48,
      "outputs": [
        {
          "output_type": "stream",
          "text": [
            "Drive already mounted at /content/drive; to attempt to forcibly remount, call drive.mount(\"/content/drive\", force_remount=True).\n"
          ],
          "name": "stdout"
        }
      ]
    },
    {
      "cell_type": "code",
      "metadata": {
        "id": "FG5cjrBQD4ju"
      },
      "source": [
        "response = openai.Completion.create(engine=\"davinci\", prompt= myPrompt, max_tokens=20)"
      ],
      "execution_count": 35,
      "outputs": []
    },
    {
      "cell_type": "code",
      "metadata": {
        "id": "TnRO5o3JEQe3"
      },
      "source": [
        "print(response)"
      ],
      "execution_count": null,
      "outputs": []
    },
    {
      "cell_type": "code",
      "metadata": {
        "id": "z4JCH8LPSAuf"
      },
      "source": [
        "response = openai.Completion.create(\n",
        "  engine=myEngine,\n",
        "  prompt=myPrompt,\n",
        "  max_tokens=myTokens,\n",
        "  temperature=myTemp,\n",
        "  top_p=myTop_p,\n",
        "  n=myN,\n",
        "  stream = myStream,\n",
        "  logprobs=myLogProbs,\n",
        "  stop = myStop\n",
        ")\n",
        "\n",
        "print(f\"{response}\")"
      ],
      "execution_count": null,
      "outputs": []
    },
    {
      "cell_type": "code",
      "metadata": {
        "id": "kUxUTXhDSAug"
      },
      "source": [
        ""
      ],
      "execution_count": null,
      "outputs": []
    },
    {
      "cell_type": "code",
      "metadata": {
        "id": "SC50jbP3SAug"
      },
      "source": [
        ""
      ],
      "execution_count": null,
      "outputs": []
    },
    {
      "cell_type": "code",
      "metadata": {
        "id": "OGieZ95gSAug"
      },
      "source": [
        ""
      ],
      "execution_count": null,
      "outputs": []
    },
    {
      "cell_type": "code",
      "metadata": {
        "id": "C52Zh8Y0SAug"
      },
      "source": [
        ""
      ],
      "execution_count": null,
      "outputs": []
    }
  ]
}