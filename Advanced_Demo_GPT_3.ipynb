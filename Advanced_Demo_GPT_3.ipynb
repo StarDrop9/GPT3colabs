{
  "nbformat": 4,
  "nbformat_minor": 0,
  "metadata": {
    "kernelspec": {
      "display_name": "Python 3",
      "language": "python",
      "name": "python3"
    },
    "language_info": {
      "codemirror_mode": {
        "name": "ipython",
        "version": 3
      },
      "file_extension": ".py",
      "mimetype": "text/x-python",
      "name": "python",
      "nbconvert_exporter": "python",
      "pygments_lexer": "ipython3",
      "version": "3.7.6"
    },
    "colab": {
      "name": "Advanced Demo GPT-3.ipynb",
      "provenance": [],
      "include_colab_link": true
    },
    "widgets": {
      "application/vnd.jupyter.widget-state+json": {
        "080a029d2e4f4c9fbdedf0a3b2c015b6": {
          "model_module": "@jupyter-widgets/controls",
          "model_name": "TextareaModel",
          "state": {
            "_view_name": "TextareaView",
            "style": "IPY_MODEL_44b0533a0fb44f55bc7073205af6af86",
            "rows": null,
            "_dom_classes": [],
            "description": "History",
            "_model_name": "TextareaModel",
            "placeholder": "Type something",
            "_view_module": "@jupyter-widgets/controls",
            "_model_module_version": "1.5.0",
            "value": "Hello World\n\n\n\nAI:I am a chat bot based on GPT-3\nHuman:HiAI:HiHuman::HiAnd so on.\nAI:AI:HiHuman::HiAnd so on.\nHuman:Hi chatbot how are you?\nAI:\nHuman:What are you doing today?\nAI:\nHuman:bye",
            "_view_count": null,
            "disabled": true,
            "_view_module_version": "1.5.0",
            "continuous_update": true,
            "description_tooltip": null,
            "_model_module": "@jupyter-widgets/controls",
            "layout": "IPY_MODEL_37c46f5fcdad48ce8f7297826b42e06a"
          }
        },
        "44b0533a0fb44f55bc7073205af6af86": {
          "model_module": "@jupyter-widgets/controls",
          "model_name": "DescriptionStyleModel",
          "state": {
            "_view_name": "StyleView",
            "_model_name": "DescriptionStyleModel",
            "description_width": "",
            "_view_module": "@jupyter-widgets/base",
            "_model_module_version": "1.5.0",
            "_view_count": null,
            "_view_module_version": "1.2.0",
            "_model_module": "@jupyter-widgets/controls"
          }
        },
        "37c46f5fcdad48ce8f7297826b42e06a": {
          "model_module": "@jupyter-widgets/base",
          "model_name": "LayoutModel",
          "state": {
            "_view_name": "LayoutView",
            "grid_template_rows": null,
            "right": null,
            "justify_content": null,
            "_view_module": "@jupyter-widgets/base",
            "overflow": null,
            "_model_module_version": "1.2.0",
            "_view_count": null,
            "flex_flow": null,
            "width": null,
            "min_width": null,
            "border": null,
            "align_items": null,
            "bottom": null,
            "_model_module": "@jupyter-widgets/base",
            "top": null,
            "grid_column": null,
            "overflow_y": null,
            "overflow_x": null,
            "grid_auto_flow": null,
            "grid_area": null,
            "grid_template_columns": null,
            "flex": null,
            "_model_name": "LayoutModel",
            "justify_items": null,
            "grid_row": null,
            "max_height": null,
            "align_content": null,
            "visibility": null,
            "align_self": null,
            "height": null,
            "min_height": null,
            "padding": null,
            "grid_auto_rows": null,
            "grid_gap": null,
            "max_width": null,
            "order": null,
            "_view_module_version": "1.2.0",
            "grid_template_areas": null,
            "object_position": null,
            "object_fit": null,
            "grid_auto_columns": null,
            "margin": null,
            "display": null,
            "left": null
          }
        },
        "2068aa830fdd4c4b8f77f7abbc53bc19": {
          "model_module": "@jupyter-widgets/controls",
          "model_name": "TextModel",
          "state": {
            "_view_name": "TextView",
            "style": "IPY_MODEL_0b52b517e66c4fc297ca33862a83f797",
            "_dom_classes": [],
            "description": "AI says:",
            "_model_name": "TextModel",
            "placeholder": "​",
            "_view_module": "@jupyter-widgets/controls",
            "_model_module_version": "1.5.0",
            "value": "",
            "_view_count": null,
            "disabled": true,
            "_view_module_version": "1.5.0",
            "continuous_update": true,
            "description_tooltip": null,
            "_model_module": "@jupyter-widgets/controls",
            "layout": "IPY_MODEL_97bfe21a1a24485ba13c3da7bb3afd20"
          }
        },
        "0b52b517e66c4fc297ca33862a83f797": {
          "model_module": "@jupyter-widgets/controls",
          "model_name": "DescriptionStyleModel",
          "state": {
            "_view_name": "StyleView",
            "_model_name": "DescriptionStyleModel",
            "description_width": "",
            "_view_module": "@jupyter-widgets/base",
            "_model_module_version": "1.5.0",
            "_view_count": null,
            "_view_module_version": "1.2.0",
            "_model_module": "@jupyter-widgets/controls"
          }
        },
        "97bfe21a1a24485ba13c3da7bb3afd20": {
          "model_module": "@jupyter-widgets/base",
          "model_name": "LayoutModel",
          "state": {
            "_view_name": "LayoutView",
            "grid_template_rows": null,
            "right": null,
            "justify_content": null,
            "_view_module": "@jupyter-widgets/base",
            "overflow": null,
            "_model_module_version": "1.2.0",
            "_view_count": null,
            "flex_flow": null,
            "width": null,
            "min_width": null,
            "border": null,
            "align_items": null,
            "bottom": null,
            "_model_module": "@jupyter-widgets/base",
            "top": null,
            "grid_column": null,
            "overflow_y": null,
            "overflow_x": null,
            "grid_auto_flow": null,
            "grid_area": null,
            "grid_template_columns": null,
            "flex": null,
            "_model_name": "LayoutModel",
            "justify_items": null,
            "grid_row": null,
            "max_height": null,
            "align_content": null,
            "visibility": null,
            "align_self": null,
            "height": null,
            "min_height": null,
            "padding": null,
            "grid_auto_rows": null,
            "grid_gap": null,
            "max_width": null,
            "order": null,
            "_view_module_version": "1.2.0",
            "grid_template_areas": null,
            "object_position": null,
            "object_fit": null,
            "grid_auto_columns": null,
            "margin": null,
            "display": null,
            "left": null
          }
        },
        "255de577dd8a4bc2a036eab489359498": {
          "model_module": "@jupyter-widgets/controls",
          "model_name": "TextModel",
          "state": {
            "_view_name": "TextView",
            "style": "IPY_MODEL_e28dd7c0dccd48bcae8778f79d0f423c",
            "_dom_classes": [],
            "description": "You say:",
            "_model_name": "TextModel",
            "placeholder": "​",
            "_view_module": "@jupyter-widgets/controls",
            "_model_module_version": "1.5.0",
            "value": "",
            "_view_count": null,
            "disabled": false,
            "_view_module_version": "1.5.0",
            "continuous_update": true,
            "description_tooltip": null,
            "_model_module": "@jupyter-widgets/controls",
            "layout": "IPY_MODEL_33b0759e762648458a9ee4b309397efe"
          }
        },
        "e28dd7c0dccd48bcae8778f79d0f423c": {
          "model_module": "@jupyter-widgets/controls",
          "model_name": "DescriptionStyleModel",
          "state": {
            "_view_name": "StyleView",
            "_model_name": "DescriptionStyleModel",
            "description_width": "",
            "_view_module": "@jupyter-widgets/base",
            "_model_module_version": "1.5.0",
            "_view_count": null,
            "_view_module_version": "1.2.0",
            "_model_module": "@jupyter-widgets/controls"
          }
        },
        "33b0759e762648458a9ee4b309397efe": {
          "model_module": "@jupyter-widgets/base",
          "model_name": "LayoutModel",
          "state": {
            "_view_name": "LayoutView",
            "grid_template_rows": null,
            "right": null,
            "justify_content": null,
            "_view_module": "@jupyter-widgets/base",
            "overflow": null,
            "_model_module_version": "1.2.0",
            "_view_count": null,
            "flex_flow": null,
            "width": null,
            "min_width": null,
            "border": null,
            "align_items": null,
            "bottom": null,
            "_model_module": "@jupyter-widgets/base",
            "top": null,
            "grid_column": null,
            "overflow_y": null,
            "overflow_x": null,
            "grid_auto_flow": null,
            "grid_area": null,
            "grid_template_columns": null,
            "flex": null,
            "_model_name": "LayoutModel",
            "justify_items": null,
            "grid_row": null,
            "max_height": null,
            "align_content": null,
            "visibility": null,
            "align_self": null,
            "height": null,
            "min_height": null,
            "padding": null,
            "grid_auto_rows": null,
            "grid_gap": null,
            "max_width": null,
            "order": null,
            "_view_module_version": "1.2.0",
            "grid_template_areas": null,
            "object_position": null,
            "object_fit": null,
            "grid_auto_columns": null,
            "margin": null,
            "display": null,
            "left": null
          }
        },
        "259ca752d4534c10972d595009d29bf4": {
          "model_module": "@jupyter-widgets/output",
          "model_name": "OutputModel",
          "state": {
            "_view_name": "OutputView",
            "msg_id": "",
            "_dom_classes": [],
            "_model_name": "OutputModel",
            "outputs": [],
            "_view_module": "@jupyter-widgets/output",
            "_model_module_version": "1.0.0",
            "_view_count": null,
            "_view_module_version": "1.0.0",
            "layout": "IPY_MODEL_d46e655886d343e6874d8e751095e7f7",
            "_model_module": "@jupyter-widgets/output"
          }
        },
        "d46e655886d343e6874d8e751095e7f7": {
          "model_module": "@jupyter-widgets/base",
          "model_name": "LayoutModel",
          "state": {
            "_view_name": "LayoutView",
            "grid_template_rows": null,
            "right": null,
            "justify_content": null,
            "_view_module": "@jupyter-widgets/base",
            "overflow": null,
            "_model_module_version": "1.2.0",
            "_view_count": null,
            "flex_flow": null,
            "width": null,
            "min_width": null,
            "border": null,
            "align_items": null,
            "bottom": null,
            "_model_module": "@jupyter-widgets/base",
            "top": null,
            "grid_column": null,
            "overflow_y": null,
            "overflow_x": null,
            "grid_auto_flow": null,
            "grid_area": null,
            "grid_template_columns": null,
            "flex": null,
            "_model_name": "LayoutModel",
            "justify_items": null,
            "grid_row": null,
            "max_height": null,
            "align_content": null,
            "visibility": null,
            "align_self": null,
            "height": null,
            "min_height": null,
            "padding": null,
            "grid_auto_rows": null,
            "grid_gap": null,
            "max_width": null,
            "order": null,
            "_view_module_version": "1.2.0",
            "grid_template_areas": null,
            "object_position": null,
            "object_fit": null,
            "grid_auto_columns": null,
            "margin": null,
            "display": null,
            "left": null
          }
        },
        "3ce8a009737b44a7b2b92562662dd6d6": {
          "model_module": "@jupyter-widgets/controls",
          "model_name": "ButtonModel",
          "state": {
            "_view_name": "ButtonView",
            "style": "IPY_MODEL_dd4f60326bb44ebf87522efa819c3fe8",
            "_dom_classes": [],
            "description": "Click me",
            "_model_name": "ButtonModel",
            "button_style": "",
            "_view_module": "@jupyter-widgets/controls",
            "_model_module_version": "1.5.0",
            "tooltip": "Update",
            "_view_count": null,
            "disabled": false,
            "_view_module_version": "1.5.0",
            "layout": "IPY_MODEL_7ff9c862d38148078aaba56d779d865d",
            "_model_module": "@jupyter-widgets/controls",
            "icon": "check"
          }
        },
        "dd4f60326bb44ebf87522efa819c3fe8": {
          "model_module": "@jupyter-widgets/controls",
          "model_name": "ButtonStyleModel",
          "state": {
            "_view_name": "StyleView",
            "_model_name": "ButtonStyleModel",
            "_view_module": "@jupyter-widgets/base",
            "_model_module_version": "1.5.0",
            "_view_count": null,
            "button_color": null,
            "font_weight": "",
            "_view_module_version": "1.2.0",
            "_model_module": "@jupyter-widgets/controls"
          }
        },
        "7ff9c862d38148078aaba56d779d865d": {
          "model_module": "@jupyter-widgets/base",
          "model_name": "LayoutModel",
          "state": {
            "_view_name": "LayoutView",
            "grid_template_rows": null,
            "right": null,
            "justify_content": null,
            "_view_module": "@jupyter-widgets/base",
            "overflow": null,
            "_model_module_version": "1.2.0",
            "_view_count": null,
            "flex_flow": null,
            "width": null,
            "min_width": null,
            "border": null,
            "align_items": null,
            "bottom": null,
            "_model_module": "@jupyter-widgets/base",
            "top": null,
            "grid_column": null,
            "overflow_y": null,
            "overflow_x": null,
            "grid_auto_flow": null,
            "grid_area": null,
            "grid_template_columns": null,
            "flex": null,
            "_model_name": "LayoutModel",
            "justify_items": null,
            "grid_row": null,
            "max_height": null,
            "align_content": null,
            "visibility": null,
            "align_self": null,
            "height": null,
            "min_height": null,
            "padding": null,
            "grid_auto_rows": null,
            "grid_gap": null,
            "max_width": null,
            "order": null,
            "_view_module_version": "1.2.0",
            "grid_template_areas": null,
            "object_position": null,
            "object_fit": null,
            "grid_auto_columns": null,
            "margin": null,
            "display": null,
            "left": null
          }
        }
      }
    }
  },
  "cells": [
    {
      "cell_type": "markdown",
      "metadata": {
        "id": "view-in-github",
        "colab_type": "text"
      },
      "source": [
        "<a href=\"https://colab.research.google.com/github/StarDrop9/GPT3colabs/blob/main/Advanced_Demo_GPT_3.ipynb\" target=\"_parent\"><img src=\"https://colab.research.google.com/assets/colab-badge.svg\" alt=\"Open In Colab\"/></a>"
      ]
    },
    {
      "cell_type": "code",
      "metadata": {
        "id": "YKMUJ_1plTE4"
      },
      "source": [
        "!pip install openai\n",
        "!pip install pyttsx3\n",
        "!pip install comtypes\n",
        "import config\n",
        "import openai\n",
        "import json\n",
        "import comtypes\n",
        "import ipywidgets as widgets\n",
        "from IPython.display import display"
      ],
      "execution_count": null,
      "outputs": []
    },
    {
      "cell_type": "code",
      "metadata": {
        "id": "jr2h-5c4lTE6"
      },
      "source": [
        "openai.api_key = config.key"
      ],
      "execution_count": 2,
      "outputs": []
    },
    {
      "cell_type": "code",
      "metadata": {
        "scrolled": true,
        "colab": {
          "base_uri": "https://localhost:8080/",
          "height": 1000,
          "referenced_widgets": [
            "080a029d2e4f4c9fbdedf0a3b2c015b6",
            "44b0533a0fb44f55bc7073205af6af86",
            "37c46f5fcdad48ce8f7297826b42e06a",
            "2068aa830fdd4c4b8f77f7abbc53bc19",
            "0b52b517e66c4fc297ca33862a83f797",
            "97bfe21a1a24485ba13c3da7bb3afd20",
            "255de577dd8a4bc2a036eab489359498",
            "e28dd7c0dccd48bcae8778f79d0f423c",
            "33b0759e762648458a9ee4b309397efe",
            "259ca752d4534c10972d595009d29bf4",
            "d46e655886d343e6874d8e751095e7f7",
            "3ce8a009737b44a7b2b92562662dd6d6",
            "dd4f60326bb44ebf87522efa819c3fe8",
            "7ff9c862d38148078aaba56d779d865d"
          ]
        },
        "id": "HbRJjNdXlTE6",
        "outputId": "7c64e91d-0393-4a29-9216-6879b1e75734"
      },
      "source": [
        "ai_start = \"I am a chat bot based on GPT-3\"\n",
        "human_start = \"Hi\"\n",
        "initial_prompt = f\"The following is a conversation with an AI and a Human. The AI is very helpful and friendly.\\n\\nAI:{ai_start}\\nHuman:{human_start}\\nAI:\"\n",
        "\n",
        "ai = widgets.Text(value=ai_start, disabled=True,description='AI says:')\n",
        "human = widgets.Text(value=human_start, disabled=False,description='You say:')\n",
        "output = widgets.Output()\n",
        "\n",
        "\n",
        "history = widgets.Textarea(\n",
        "    value='Hello World\\n\\n\\n',\n",
        "    placeholder='Type something',\n",
        "    description='History',\n",
        "    disabled=True\n",
        ")\n",
        "\n",
        "submit = widgets.Button(\n",
        "    description='Click me',\n",
        "    disabled=False,\n",
        "    button_style='', # 'success', 'info', 'warning', 'danger' or ''\n",
        "    tooltip='Update',\n",
        "    icon='check' # (FontAwesome names without the `fa-` prefix)\n",
        ")\n",
        "\n",
        "display(history, ai,human,output,submit)\n",
        "\n",
        "def queryModel(myEntry):\n",
        "    response = openai.Completion.create(\n",
        "    engine=\"davinci\",\n",
        "    prompt=myEntry,\n",
        "    max_tokens=100,\n",
        "    temperature=0.90,\n",
        "    top_p=1,\n",
        "    n=1,\n",
        "    stream = None,\n",
        "    logprobs=None,\n",
        "    stop = \"\\n\")\n",
        "    return response\n",
        "\n",
        "def converse():\n",
        "    ai_says = ai.value\n",
        "    human_says = human.value\n",
        "    #start conversation\n",
        "    add_to_conversation = f\"{history.value}\\nAI:{ai_says}\\nHuman:{human_says}\"\n",
        "    ai_response = queryModel(add_to_conversation)\n",
        "    print(f\"{add_to_conversation}\")\n",
        "    clean_response = ai_response.choices[0].text.strip()\n",
        "    add_to_conversation+=clean_response\n",
        "    history.value = add_to_conversation\n",
        "    ai.value = clean_response\n",
        "    human.value = \"\"\n",
        "    #while conversation is not over\n",
        "    #update the button values\n",
        "    #get new API response\n",
        "    #increment steps\n",
        "    \n",
        "def submit_action(submit):\n",
        "    converse()\n",
        "    \n",
        "    \n",
        "submit.on_click(submit_action)"
      ],
      "execution_count": 31,
      "outputs": [
        {
          "output_type": "display_data",
          "data": {
            "application/vnd.jupyter.widget-view+json": {
              "model_id": "080a029d2e4f4c9fbdedf0a3b2c015b6",
              "version_minor": 0,
              "version_major": 2
            },
            "text/plain": [
              "Textarea(value='Hello World\\n\\n\\n', description='History', disabled=True, placeholder='Type something')"
            ]
          },
          "metadata": {
            "tags": []
          }
        },
        {
          "output_type": "display_data",
          "data": {
            "application/vnd.jupyter.widget-view+json": {
              "model_id": "2068aa830fdd4c4b8f77f7abbc53bc19",
              "version_minor": 0,
              "version_major": 2
            },
            "text/plain": [
              "Text(value='I am a chat bot based on GPT-3', description='AI says:', disabled=True)"
            ]
          },
          "metadata": {
            "tags": []
          }
        },
        {
          "output_type": "display_data",
          "data": {
            "application/vnd.jupyter.widget-view+json": {
              "model_id": "255de577dd8a4bc2a036eab489359498",
              "version_minor": 0,
              "version_major": 2
            },
            "text/plain": [
              "Text(value='Hi', description='You say:')"
            ]
          },
          "metadata": {
            "tags": []
          }
        },
        {
          "output_type": "display_data",
          "data": {
            "application/vnd.jupyter.widget-view+json": {
              "model_id": "259ca752d4534c10972d595009d29bf4",
              "version_minor": 0,
              "version_major": 2
            },
            "text/plain": [
              "Output()"
            ]
          },
          "metadata": {
            "tags": []
          }
        },
        {
          "output_type": "display_data",
          "data": {
            "application/vnd.jupyter.widget-view+json": {
              "model_id": "3ce8a009737b44a7b2b92562662dd6d6",
              "version_minor": 0,
              "version_major": 2
            },
            "text/plain": [
              "Button(description='Click me', icon='check', style=ButtonStyle(), tooltip='Update')"
            ]
          },
          "metadata": {
            "tags": []
          }
        },
        {
          "output_type": "stream",
          "text": [
            "Hello World\n",
            "\n",
            "\n",
            "\n",
            "AI:I am a chat bot based on GPT-3\n",
            "Human:Hi\n",
            "Hello World\n",
            "\n",
            "\n",
            "\n",
            "AI:I am a chat bot based on GPT-3\n",
            "Human:HiAI:HiHuman::HiAnd so on.\n",
            "AI:AI:HiHuman::HiAnd so on.\n",
            "Human:Hi chatbot how are you?\n",
            "Hello World\n",
            "\n",
            "\n",
            "\n",
            "AI:I am a chat bot based on GPT-3\n",
            "Human:HiAI:HiHuman::HiAnd so on.\n",
            "AI:AI:HiHuman::HiAnd so on.\n",
            "Human:Hi chatbot how are you?\n",
            "AI:\n",
            "Human:What are you doing today?\n",
            "Hello World\n",
            "\n",
            "\n",
            "\n",
            "AI:I am a chat bot based on GPT-3\n",
            "Human:HiAI:HiHuman::HiAnd so on.\n",
            "AI:AI:HiHuman::HiAnd so on.\n",
            "Human:Hi chatbot how are you?\n",
            "AI:\n",
            "Human:What are you doing today?\n",
            "AI:\n",
            "Human:bye\n"
          ],
          "name": "stdout"
        }
      ]
    },
    {
      "cell_type": "code",
      "metadata": {
        "id": "goPwk20olTE6"
      },
      "source": [
        "jfile = {\n",
        "  \"finish_reason\": \"stop\",\n",
        "  \"index\": 0,\n",
        "  \"logprobs\": \"null\",\n",
        "  \"text\": \"\"\n",
        "}"
      ],
      "execution_count": 32,
      "outputs": []
    },
    {
      "cell_type": "code",
      "metadata": {
        "colab": {
          "base_uri": "https://localhost:8080/",
          "height": 35
        },
        "id": "eSWjwz5xlTE6",
        "outputId": "8cb400da-a973-4d55-b6b5-e41027b0e8ab"
      },
      "source": [
        "json.dumps(jfile)"
      ],
      "execution_count": 33,
      "outputs": [
        {
          "output_type": "execute_result",
          "data": {
            "application/vnd.google.colaboratory.intrinsic+json": {
              "type": "string"
            },
            "text/plain": [
              "'{\"finish_reason\": \"stop\", \"index\": 0, \"logprobs\": \"null\", \"text\": \"\"}'"
            ]
          },
          "metadata": {
            "tags": []
          },
          "execution_count": 33
        }
      ]
    },
    {
      "cell_type": "code",
      "metadata": {
        "id": "50Ae4jhslTE6"
      },
      "source": [
        "import pyttsx3\n",
        "engine = pyttsx3.init('dummy')\n",
        "engine.say(\"I will speak this text\")\n",
        "engine.runAndWait()"
      ],
      "execution_count": 34,
      "outputs": []
    },
    {
      "cell_type": "code",
      "metadata": {
        "colab": {
          "base_uri": "https://localhost:8080/"
        },
        "id": "9VvS8NGElTE-",
        "outputId": "05655c43-27e8-4d65-962f-7edc9e9af332"
      },
      "source": [
        "!pip install pyttsx3"
      ],
      "execution_count": 16,
      "outputs": [
        {
          "output_type": "stream",
          "text": [
            "Requirement already satisfied: pyttsx3 in /usr/local/lib/python3.6/dist-packages (2.90)\n"
          ],
          "name": "stdout"
        }
      ]
    },
    {
      "cell_type": "code",
      "metadata": {
        "id": "oZZlWXOPlTE-"
      },
      "source": [
        "engine = pyttsx3.init('dummy')\n",
        "rate = engine.getProperty('rate')\n",
        "engine.setProperty('rate', rate+50)\n",
        "engine.say('The quick brown fox jumped over the lazy dog.')\n",
        "engine.runAndWait()"
      ],
      "execution_count": 29,
      "outputs": []
    },
    {
      "cell_type": "code",
      "metadata": {
        "id": "tQ9XdUyIlTE-"
      },
      "source": [
        ""
      ],
      "execution_count": null,
      "outputs": []
    }
  ]
}